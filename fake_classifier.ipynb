{
  "cells": [
    {
      "cell_type": "markdown",
      "metadata": {
        "id": "view-in-github",
        "colab_type": "text"
      },
      "source": [
        "<a href=\"https://colab.research.google.com/github/sameer-555/Artism/blob/master/fake_classifier.ipynb\" target=\"_parent\"><img src=\"https://colab.research.google.com/assets/colab-badge.svg\" alt=\"Open In Colab\"/></a>"
      ]
    },
    {
      "cell_type": "code",
      "execution_count": 1,
      "id": "e330c1de",
      "metadata": {
        "id": "e330c1de"
      },
      "outputs": [],
      "source": [
        "import torchaudio\n",
        "from transformers import HubertModel\n",
        "from sklearn.metrics import PrecisionRecallDisplay"
      ]
    },
    {
      "cell_type": "code",
      "source": [
        "from google.colab import drive\n",
        "drive.mount('/content/drive')"
      ],
      "metadata": {
        "colab": {
          "base_uri": "https://localhost:8080/"
        },
        "id": "UocE5SYwexPp",
        "outputId": "00890703-4334-4607-88e7-e6b512e8accd"
      },
      "id": "UocE5SYwexPp",
      "execution_count": 2,
      "outputs": [
        {
          "output_type": "stream",
          "name": "stdout",
          "text": [
            "Mounted at /content/drive\n"
          ]
        }
      ]
    },
    {
      "cell_type": "code",
      "execution_count": null,
      "id": "2ac3dd88",
      "metadata": {
        "id": "2ac3dd88"
      },
      "outputs": [],
      "source": [
        "# use hubert from HF for feature embedding\n",
        "model = HubertModel.from_pretrained(\"facebook/hubert-base-ls960\")\n",
        "arr, sr = torchaudio.load(\"my_audio.wav\")\n",
        "if sr != 16_000:\n",
        "    arr = torchaudio.functional.resample(arr, sr, 16_000)\n",
        "# use intermediate layer\n",
        "hidden_state = model(arr[None], output_hidden_states=True).hidden_states[6]\n",
        "# take mean over time\n",
        "feats = hidden_state.detach().cpu().numpy().squeeze().mean(0)"
      ]
    },
    {
      "cell_type": "code",
      "execution_count": null,
      "id": "03a602e0",
      "metadata": {
        "id": "03a602e0"
      },
      "outputs": [],
      "source": [
        "# load sk-learn classifier from here: https://dl.suno-models.io/bark/models/v0/classifier.pkl\n",
        "with open(\"classifier.pkl\", \"rb\") as f:\n",
        "    clf = pickle.load(f)"
      ]
    },
    {
      "cell_type": "markdown",
      "id": "8e423794",
      "metadata": {
        "id": "8e423794"
      },
      "source": [
        "### Precision-recall curve on test set"
      ]
    },
    {
      "cell_type": "markdown",
      "id": "e1486424",
      "metadata": {
        "id": "e1486424"
      },
      "source": [
        "![image.png](attachment:image.png)"
      ]
    },
    {
      "cell_type": "code",
      "execution_count": null,
      "id": "668856bf",
      "metadata": {
        "id": "668856bf"
      },
      "outputs": [],
      "source": []
    },
    {
      "cell_type": "code",
      "execution_count": null,
      "id": "c87326bd",
      "metadata": {
        "id": "c87326bd"
      },
      "outputs": [],
      "source": []
    },
    {
      "cell_type": "code",
      "execution_count": null,
      "id": "decdbf09",
      "metadata": {
        "id": "decdbf09"
      },
      "outputs": [],
      "source": []
    }
  ],
  "metadata": {
    "kernelspec": {
      "display_name": "Python 3 (ipykernel)",
      "language": "python",
      "name": "python3"
    },
    "language_info": {
      "codemirror_mode": {
        "name": "ipython",
        "version": 3
      },
      "file_extension": ".py",
      "mimetype": "text/x-python",
      "name": "python",
      "nbconvert_exporter": "python",
      "pygments_lexer": "ipython3",
      "version": "3.8.15"
    },
    "colab": {
      "provenance": [],
      "include_colab_link": true
    }
  },
  "nbformat": 4,
  "nbformat_minor": 5
}